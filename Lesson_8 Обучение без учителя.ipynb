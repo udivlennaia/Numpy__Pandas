{
 "cells": [
  {
   "cell_type": "markdown",
   "id": "2584d272",
   "metadata": {},
   "source": [
    "Задание 1\n",
    "\n",
    "Импортируйте библиотеки pandas, numpy и matplotlib.\n",
    "\n",
    "Загрузите \"Boston House Prices datacet\" из встроенных наборов данных библиотеки sklearn.\n",
    "\n",
    "Создайте датафреймы X и y из этих данных.\n",
    "\n",
    "Разбейте эти датафреймы на тренировочные (X_train, y_train) и тестовые (X_test, y_test) с помощью функции train_test_split так,\n",
    "чтобы размер тестовой выборки составлял 20% от всех данных, при этом аргумент random_state должен быть равен 42.\n",
    "\n",
    "Масштабируйте данные с помощью StandardScaler.\n",
    "\n",
    "Постройте модель TSNE на тренировочных данных с параметрами: n_components=2, learning_rate=250, random_state=42.\n",
    "    \n",
    "Постройте диаграмму рассеяния на этих данных."
   ]
  },
  {
   "cell_type": "code",
   "execution_count": 39,
   "id": "c0cc7074",
   "metadata": {},
   "outputs": [],
   "source": [
    "import numpy as np\n",
    "import pandas as pd\n",
    "from matplotlib import pyplot as plt\n",
    "from sklearn.model_selection import train_test_split\n",
    "plt.style.use('fivethirtyeight')\n",
    "%config InliBackend.figure_format = 'svg'\n",
    "%matplotlib inline"
   ]
  },
  {
   "cell_type": "code",
   "execution_count": 40,
   "id": "b5f0469a",
   "metadata": {},
   "outputs": [],
   "source": [
    "from sklearn.datasets import load_boston"
   ]
  },
  {
   "cell_type": "code",
   "execution_count": 41,
   "id": "227c174b",
   "metadata": {},
   "outputs": [
    {
     "data": {
      "text/plain": [
       "dict_keys(['data', 'target', 'feature_names', 'DESCR', 'filename'])"
      ]
     },
     "execution_count": 41,
     "metadata": {},
     "output_type": "execute_result"
    }
   ],
   "source": [
    "boston = load_boston()\n",
    "boston.keys()"
   ]
  },
  {
   "cell_type": "code",
   "execution_count": 42,
   "id": "e7994021",
   "metadata": {},
   "outputs": [
    {
     "data": {
      "text/plain": [
       "(506, 13)"
      ]
     },
     "execution_count": 42,
     "metadata": {},
     "output_type": "execute_result"
    }
   ],
   "source": [
    "data = boston.data\n",
    "data.shape"
   ]
  },
  {
   "cell_type": "code",
   "execution_count": 43,
   "id": "8d943ede",
   "metadata": {},
   "outputs": [
    {
     "data": {
      "text/plain": [
       "array(['CRIM', 'ZN', 'INDUS', 'CHAS', 'NOX', 'RM', 'AGE', 'DIS', 'RAD',\n",
       "       'TAX', 'PTRATIO', 'B', 'LSTAT'], dtype='<U7')"
      ]
     },
     "execution_count": 43,
     "metadata": {},
     "output_type": "execute_result"
    }
   ],
   "source": [
    "feature_names = boston.feature_names\n",
    "feature_names"
   ]
  },
  {
   "cell_type": "code",
   "execution_count": 44,
   "id": "4a5fdcbf",
   "metadata": {},
   "outputs": [
    {
     "data": {
      "text/plain": [
       "array([24. , 21.6, 34.7, 33.4, 36.2, 28.7, 22.9, 27.1, 16.5, 18.9, 15. ,\n",
       "       18.9, 21.7])"
      ]
     },
     "execution_count": 44,
     "metadata": {},
     "output_type": "execute_result"
    }
   ],
   "source": [
    "target = boston.target\n",
    "target[:13]"
   ]
  },
  {
   "cell_type": "code",
   "execution_count": 45,
   "id": "14b92db4",
   "metadata": {},
   "outputs": [
    {
     "data": {
      "text/html": [
       "<div>\n",
       "<style scoped>\n",
       "    .dataframe tbody tr th:only-of-type {\n",
       "        vertical-align: middle;\n",
       "    }\n",
       "\n",
       "    .dataframe tbody tr th {\n",
       "        vertical-align: top;\n",
       "    }\n",
       "\n",
       "    .dataframe thead th {\n",
       "        text-align: right;\n",
       "    }\n",
       "</style>\n",
       "<table border=\"1\" class=\"dataframe\">\n",
       "  <thead>\n",
       "    <tr style=\"text-align: right;\">\n",
       "      <th></th>\n",
       "      <th>CRIM</th>\n",
       "      <th>ZN</th>\n",
       "      <th>INDUS</th>\n",
       "      <th>CHAS</th>\n",
       "      <th>NOX</th>\n",
       "      <th>RM</th>\n",
       "      <th>AGE</th>\n",
       "      <th>DIS</th>\n",
       "      <th>RAD</th>\n",
       "      <th>TAX</th>\n",
       "      <th>PTRATIO</th>\n",
       "      <th>B</th>\n",
       "      <th>LSTAT</th>\n",
       "    </tr>\n",
       "  </thead>\n",
       "  <tbody>\n",
       "    <tr>\n",
       "      <th>0</th>\n",
       "      <td>0.00632</td>\n",
       "      <td>18.0</td>\n",
       "      <td>2.31</td>\n",
       "      <td>0.0</td>\n",
       "      <td>0.538</td>\n",
       "      <td>6.575</td>\n",
       "      <td>65.2</td>\n",
       "      <td>4.0900</td>\n",
       "      <td>1.0</td>\n",
       "      <td>296.0</td>\n",
       "      <td>15.3</td>\n",
       "      <td>396.90</td>\n",
       "      <td>4.98</td>\n",
       "    </tr>\n",
       "    <tr>\n",
       "      <th>1</th>\n",
       "      <td>0.02731</td>\n",
       "      <td>0.0</td>\n",
       "      <td>7.07</td>\n",
       "      <td>0.0</td>\n",
       "      <td>0.469</td>\n",
       "      <td>6.421</td>\n",
       "      <td>78.9</td>\n",
       "      <td>4.9671</td>\n",
       "      <td>2.0</td>\n",
       "      <td>242.0</td>\n",
       "      <td>17.8</td>\n",
       "      <td>396.90</td>\n",
       "      <td>9.14</td>\n",
       "    </tr>\n",
       "    <tr>\n",
       "      <th>2</th>\n",
       "      <td>0.02729</td>\n",
       "      <td>0.0</td>\n",
       "      <td>7.07</td>\n",
       "      <td>0.0</td>\n",
       "      <td>0.469</td>\n",
       "      <td>7.185</td>\n",
       "      <td>61.1</td>\n",
       "      <td>4.9671</td>\n",
       "      <td>2.0</td>\n",
       "      <td>242.0</td>\n",
       "      <td>17.8</td>\n",
       "      <td>392.83</td>\n",
       "      <td>4.03</td>\n",
       "    </tr>\n",
       "    <tr>\n",
       "      <th>3</th>\n",
       "      <td>0.03237</td>\n",
       "      <td>0.0</td>\n",
       "      <td>2.18</td>\n",
       "      <td>0.0</td>\n",
       "      <td>0.458</td>\n",
       "      <td>6.998</td>\n",
       "      <td>45.8</td>\n",
       "      <td>6.0622</td>\n",
       "      <td>3.0</td>\n",
       "      <td>222.0</td>\n",
       "      <td>18.7</td>\n",
       "      <td>394.63</td>\n",
       "      <td>2.94</td>\n",
       "    </tr>\n",
       "    <tr>\n",
       "      <th>4</th>\n",
       "      <td>0.06905</td>\n",
       "      <td>0.0</td>\n",
       "      <td>2.18</td>\n",
       "      <td>0.0</td>\n",
       "      <td>0.458</td>\n",
       "      <td>7.147</td>\n",
       "      <td>54.2</td>\n",
       "      <td>6.0622</td>\n",
       "      <td>3.0</td>\n",
       "      <td>222.0</td>\n",
       "      <td>18.7</td>\n",
       "      <td>396.90</td>\n",
       "      <td>5.33</td>\n",
       "    </tr>\n",
       "  </tbody>\n",
       "</table>\n",
       "</div>"
      ],
      "text/plain": [
       "      CRIM    ZN  INDUS  CHAS    NOX     RM   AGE     DIS  RAD    TAX  \\\n",
       "0  0.00632  18.0   2.31   0.0  0.538  6.575  65.2  4.0900  1.0  296.0   \n",
       "1  0.02731   0.0   7.07   0.0  0.469  6.421  78.9  4.9671  2.0  242.0   \n",
       "2  0.02729   0.0   7.07   0.0  0.469  7.185  61.1  4.9671  2.0  242.0   \n",
       "3  0.03237   0.0   2.18   0.0  0.458  6.998  45.8  6.0622  3.0  222.0   \n",
       "4  0.06905   0.0   2.18   0.0  0.458  7.147  54.2  6.0622  3.0  222.0   \n",
       "\n",
       "   PTRATIO       B  LSTAT  \n",
       "0     15.3  396.90   4.98  \n",
       "1     17.8  396.90   9.14  \n",
       "2     17.8  392.83   4.03  \n",
       "3     18.7  394.63   2.94  \n",
       "4     18.7  396.90   5.33  "
      ]
     },
     "execution_count": 45,
     "metadata": {},
     "output_type": "execute_result"
    }
   ],
   "source": [
    "X = pd.DataFrame(data,columns=sfeature_names)\n",
    "X.head()"
   ]
  },
  {
   "cell_type": "code",
   "execution_count": 46,
   "id": "7f169d08",
   "metadata": {},
   "outputs": [
    {
     "name": "stdout",
     "output_type": "stream",
     "text": [
      "<class 'pandas.core.frame.DataFrame'>\n",
      "RangeIndex: 506 entries, 0 to 505\n",
      "Data columns (total 13 columns):\n",
      " #   Column   Non-Null Count  Dtype  \n",
      "---  ------   --------------  -----  \n",
      " 0   CRIM     506 non-null    float64\n",
      " 1   ZN       506 non-null    float64\n",
      " 2   INDUS    506 non-null    float64\n",
      " 3   CHAS     506 non-null    float64\n",
      " 4   NOX      506 non-null    float64\n",
      " 5   RM       506 non-null    float64\n",
      " 6   AGE      506 non-null    float64\n",
      " 7   DIS      506 non-null    float64\n",
      " 8   RAD      506 non-null    float64\n",
      " 9   TAX      506 non-null    float64\n",
      " 10  PTRATIO  506 non-null    float64\n",
      " 11  B        506 non-null    float64\n",
      " 12  LSTAT    506 non-null    float64\n",
      "dtypes: float64(13)\n",
      "memory usage: 51.5 KB\n"
     ]
    }
   ],
   "source": [
    "X.info()"
   ]
  },
  {
   "cell_type": "code",
   "execution_count": 47,
   "id": "769efe1c",
   "metadata": {},
   "outputs": [],
   "source": [
    "price = boston.target"
   ]
  },
  {
   "cell_type": "code",
   "execution_count": 48,
   "id": "f0fd6c9f",
   "metadata": {},
   "outputs": [],
   "source": [
    "X_train, X_test, y_train, y_test = train_test_split(X,price, test_size= 0.3, random_state=42)"
   ]
  },
  {
   "cell_type": "code",
   "execution_count": 49,
   "id": "dfff4120",
   "metadata": {},
   "outputs": [
    {
     "data": {
      "text/plain": [
       "((354, 13), (152, 13), (354,), (152,))"
      ]
     },
     "execution_count": 49,
     "metadata": {},
     "output_type": "execute_result"
    }
   ],
   "source": [
    "X_train.shape, X_test.shape, y_train.shape, y_test.shape"
   ]
  },
  {
   "cell_type": "code",
   "execution_count": 50,
   "id": "c0364d20",
   "metadata": {},
   "outputs": [],
   "source": [
    "from sklearn.preprocessing import StandardScaler"
   ]
  },
  {
   "cell_type": "code",
   "execution_count": 51,
   "id": "fef01de2",
   "metadata": {},
   "outputs": [],
   "source": [
    "scaler = StandardScaler()"
   ]
  },
  {
   "cell_type": "code",
   "execution_count": 52,
   "id": "8c929aa7",
   "metadata": {},
   "outputs": [],
   "source": [
    "X_train_scaled = scaler.fit_transform(X_train)"
   ]
  },
  {
   "cell_type": "code",
   "execution_count": 53,
   "id": "4e5dcda2",
   "metadata": {},
   "outputs": [],
   "source": [
    "X_test_scaled = scaler.transform(X_test)"
   ]
  },
  {
   "cell_type": "code",
   "execution_count": 54,
   "id": "96cb926f",
   "metadata": {},
   "outputs": [],
   "source": [
    "X_train_scaled = pd.DataFrame(X_train_scaled, columns = feature_names)"
   ]
  },
  {
   "cell_type": "code",
   "execution_count": 56,
   "id": "c0f9c105",
   "metadata": {},
   "outputs": [],
   "source": [
    "X_test_scaled = pd.DataFrame(X_test_scaled, columns = feature_names)"
   ]
  },
  {
   "cell_type": "code",
   "execution_count": 57,
   "id": "7d29312a",
   "metadata": {},
   "outputs": [],
   "source": [
    "from sklearn.manifold import TSNE"
   ]
  },
  {
   "cell_type": "code",
   "execution_count": 59,
   "id": "f7984f41",
   "metadata": {},
   "outputs": [],
   "source": [
    "tsne = TSNE(n_components = 2, learning_rate = 250, random_state = 42)"
   ]
  },
  {
   "cell_type": "code",
   "execution_count": 60,
   "id": "8ebbb71d",
   "metadata": {},
   "outputs": [],
   "source": [
    "X_train_tsne = tsne.fit_transform(X_train_scaled)"
   ]
  },
  {
   "cell_type": "code",
   "execution_count": 61,
   "id": "e5d30602",
   "metadata": {},
   "outputs": [
    {
     "data": {
      "text/plain": [
       "array([[-1.07937365e+01, -4.13550091e+00],\n",
       "       [-1.41071415e+00, -4.71862555e+00],\n",
       "       [-1.05440292e+01, -8.94413853e+00],\n",
       "       [-8.02262592e+00, -9.84524345e+00],\n",
       "       [ 2.07014656e+01,  1.93065491e+01],\n",
       "       [ 1.76388435e+01,  1.63844223e+01],\n",
       "       [-1.12523689e+01, -3.46772623e+00],\n",
       "       [ 2.04137039e+01,  2.54409199e+01],\n",
       "       [-6.40470839e+00, -4.78429747e+00],\n",
       "       [-1.92161846e+01, -8.41133690e+00],\n",
       "       [-3.03956121e-01, -7.83731222e+00],\n",
       "       [-7.49100208e+00, -7.49699879e+00],\n",
       "       [-3.75385547e+00,  2.44423580e+00],\n",
       "       [ 3.65536189e+00, -8.11936474e+00],\n",
       "       [-6.15461779e+00,  4.55155993e+00],\n",
       "       [ 1.86965179e+01,  1.99311543e+01],\n",
       "       [ 2.65144634e+00, -9.56607342e+00],\n",
       "       [-4.35278368e+00, -1.26714649e+01],\n",
       "       [ 1.23798285e+01, -3.21898127e+00],\n",
       "       [ 2.53778601e+00, -7.45177364e+00],\n",
       "       [-8.29244614e+00, -8.19358635e+00],\n",
       "       [ 8.60954046e-01,  1.84471881e+00],\n",
       "       [ 1.99686775e+01,  1.70417652e+01],\n",
       "       [-6.06949985e-01, -5.30265665e+00],\n",
       "       [-1.20935142e+00, -4.02930212e+00],\n",
       "       [-9.35774422e+00, -2.74790931e+00],\n",
       "       [-1.77456455e+01, -1.75991287e+01],\n",
       "       [-1.21558161e+01, -1.21719418e+01],\n",
       "       [ 7.16960430e+00,  3.35177279e+00],\n",
       "       [ 1.53825579e+01,  2.42819309e+01],\n",
       "       [ 1.58647661e+01,  2.21778774e+01],\n",
       "       [ 1.12457390e+01,  1.51349955e+01],\n",
       "       [-1.06593914e+01, -1.76769581e+01],\n",
       "       [ 9.37156677e-01,  1.04134502e+01],\n",
       "       [ 1.90969353e+01,  3.26713333e+01],\n",
       "       [ 1.12736521e+01, -1.62934029e+00],\n",
       "       [ 1.02198105e+01,  1.44078894e+01],\n",
       "       [-1.74163876e+01, -1.00713997e+01],\n",
       "       [ 1.70315609e+01,  1.75477638e+01],\n",
       "       [ 2.46048570e+00,  2.02067804e+00],\n",
       "       [-5.56605577e-01, -6.41500330e+00],\n",
       "       [ 1.86786060e+01,  2.06966534e+01],\n",
       "       [ 1.81661472e+01,  2.36908741e+01],\n",
       "       [-1.93216305e+01, -1.83791409e+01],\n",
       "       [-1.99170132e+01, -1.19394989e+01],\n",
       "       [ 1.93640661e+00, -8.09057999e+00],\n",
       "       [ 1.65107212e+01,  1.90631084e+01],\n",
       "       [ 5.75861216e+00,  4.39042950e+00],\n",
       "       [-1.11187706e+01, -1.19416637e+01],\n",
       "       [ 4.76260662e+00,  8.46389580e+00],\n",
       "       [ 7.77168691e-01,  1.02639713e+01],\n",
       "       [-1.31349258e+01, -1.41350403e+01],\n",
       "       [-1.42494659e+01, -1.21304455e+01],\n",
       "       [-1.94659748e+01, -1.00122185e+01],\n",
       "       [ 2.78285623e+00,  2.44248128e+00],\n",
       "       [ 2.83648348e+00,  1.14174089e+01],\n",
       "       [-2.18351021e+01, -1.94488792e+01],\n",
       "       [-7.84207249e+00,  2.46736422e-01],\n",
       "       [-1.13775635e+01, -7.48517990e+00],\n",
       "       [-3.96906757e+00, -5.36201525e+00],\n",
       "       [ 1.93878479e+01,  3.21510544e+01],\n",
       "       [-2.10189590e+01, -1.29166727e+01],\n",
       "       [-1.31725597e+00, -5.74917030e+00],\n",
       "       [-2.10674057e+01, -1.98176250e+01],\n",
       "       [-1.73731251e+01, -1.49947805e+01],\n",
       "       [ 2.17917252e+01,  1.66226749e+01],\n",
       "       [ 1.08440409e+01,  1.50481071e+01],\n",
       "       [ 1.79398136e+01,  2.43302231e+01],\n",
       "       [-1.09661245e+01, -3.18060428e-01],\n",
       "       [-5.35602713e+00,  4.30239725e+00],\n",
       "       [-7.90963554e+00,  9.24385190e-02],\n",
       "       [ 1.67263680e+01,  2.48992577e+01],\n",
       "       [ 1.87687759e+01,  1.89810696e+01],\n",
       "       [-5.39921236e+00, -6.68220901e+00],\n",
       "       [-2.08754883e+01, -2.10944786e+01],\n",
       "       [ 9.96092415e+00, -3.48597646e+00],\n",
       "       [ 2.15341320e+01,  2.09691734e+01],\n",
       "       [-1.97838669e+01, -8.58342457e+00],\n",
       "       [-2.01469135e+01, -1.63135452e+01],\n",
       "       [ 1.85345840e+01,  2.30319157e+01],\n",
       "       [-1.88841457e+01, -9.70852852e+00],\n",
       "       [-1.62675560e+00, -3.34300542e+00],\n",
       "       [-8.35052204e+00, -1.37152171e+00],\n",
       "       [-4.48114920e+00,  3.50383282e+00],\n",
       "       [-1.48686781e+01, -8.99596786e+00],\n",
       "       [ 9.29978752e+00,  1.41982441e+01],\n",
       "       [ 4.07133913e+00, -5.90522099e+00],\n",
       "       [-1.76665249e+01, -1.62047577e+01],\n",
       "       [ 2.06722021e+00,  1.36559224e+00],\n",
       "       [ 5.45668268e+00,  2.61287642e+00],\n",
       "       [-5.96284246e+00, -2.75713158e+00],\n",
       "       [ 1.65398521e+01,  2.10383816e+01],\n",
       "       [-6.09222126e+00, -5.38495779e+00],\n",
       "       [-3.41721678e+00, -4.69976187e+00],\n",
       "       [-4.34460926e+00, -1.26923876e+01],\n",
       "       [ 1.61982498e+01,  2.55524559e+01],\n",
       "       [ 2.00335884e+00, -7.81817961e+00],\n",
       "       [-1.34515991e+01, -1.20796700e+01],\n",
       "       [-8.97665691e+00, -8.38005257e+00],\n",
       "       [-3.23651004e+00, -7.20941257e+00],\n",
       "       [ 3.10329604e+00,  2.53224969e+00],\n",
       "       [ 1.54270763e+01,  2.01124306e+01],\n",
       "       [-2.03333378e+01, -1.94301891e+01],\n",
       "       [-1.35021114e+01, -6.64850855e+00],\n",
       "       [-2.11464176e+01, -2.10585289e+01],\n",
       "       [ 1.76091404e+01,  2.04174976e+01],\n",
       "       [ 5.24571276e+00,  4.19775105e+00],\n",
       "       [ 1.75604248e+01,  1.94675846e+01],\n",
       "       [ 7.16137075e+00,  3.36070538e+00],\n",
       "       [ 1.93372059e+01,  3.16524448e+01],\n",
       "       [-1.99143372e+01, -1.66407928e+01],\n",
       "       [ 8.67472649e+00, -2.23386931e+00],\n",
       "       [ 1.21116590e+01, -1.90922236e+00],\n",
       "       [-6.74213171e+00, -4.54286623e+00],\n",
       "       [ 6.83782291e+00,  3.26345873e+00],\n",
       "       [-1.68338909e+01, -1.41724224e+01],\n",
       "       [-1.42463102e+01, -1.45270329e+01],\n",
       "       [-9.25048161e+00,  6.81459606e-01],\n",
       "       [-2.32590694e+01, -1.82226562e+01],\n",
       "       [ 8.21611881e+00, -2.66317654e+00],\n",
       "       [-6.09618330e+00, -1.49942291e+00],\n",
       "       [-2.04321785e+01, -2.04088020e+01],\n",
       "       [-1.90109596e+01, -1.04868793e+01],\n",
       "       [ 2.17916107e+01,  1.70456333e+01],\n",
       "       [-1.67197037e+01, -1.46484251e+01],\n",
       "       [-2.33878517e+01, -1.58152237e+01],\n",
       "       [ 1.99589901e+01,  2.84549370e+01],\n",
       "       [ 1.53416805e+01,  2.28912315e+01],\n",
       "       [-2.27303371e+01, -1.71739483e+01],\n",
       "       [ 7.93637705e+00, -2.86934400e+00],\n",
       "       [-1.25980406e+01, -1.34623804e+01],\n",
       "       [-5.22762728e+00, -2.25758624e+00],\n",
       "       [ 2.01902962e+01,  2.07988472e+01],\n",
       "       [ 1.73510122e+00,  1.00414448e+01],\n",
       "       [ 1.06829023e+01, -3.21257281e+00],\n",
       "       [ 2.01451511e+01,  3.07252960e+01],\n",
       "       [-1.84049225e+01, -2.03365059e+01],\n",
       "       [-1.74309502e+01, -1.18307686e+01],\n",
       "       [ 2.04883137e+01,  2.54613457e+01],\n",
       "       [ 2.07479057e+01,  1.66901989e+01],\n",
       "       [ 1.09330492e+01,  1.49756584e+01],\n",
       "       [-1.40860443e+01, -7.96385908e+00],\n",
       "       [-1.35835953e+01, -7.32719755e+00],\n",
       "       [ 1.00338802e+01,  1.43785458e+01],\n",
       "       [ 1.75384426e+01,  3.10242081e+01],\n",
       "       [-3.58292796e-02, -4.82630825e+00],\n",
       "       [-8.58994198e+00, -1.68544304e+00],\n",
       "       [-2.39592195e+00, -8.83964252e+00],\n",
       "       [-1.59701853e+01, -5.79805040e+00],\n",
       "       [-8.85978031e+00, -1.01243181e+01],\n",
       "       [ 2.12229176e+01,  1.72480278e+01],\n",
       "       [ 1.96067009e+01,  3.10331020e+01],\n",
       "       [-8.97942352e+00,  1.36278200e+00],\n",
       "       [-2.94708180e+00, -3.23119140e+00],\n",
       "       [ 2.72828841e+00,  9.99770045e-01],\n",
       "       [ 1.04371557e+01, -3.82437515e+00],\n",
       "       [-2.14843979e+01, -2.09619370e+01],\n",
       "       [-4.89599371e+00,  4.53155279e+00],\n",
       "       [-9.05805492e+00,  1.61857593e+00],\n",
       "       [-1.90499410e-01, -4.93401623e+00],\n",
       "       [ 7.61906290e+00, -2.87233758e+00],\n",
       "       [-2.28669815e+01, -1.62942314e+01],\n",
       "       [-8.61976242e+00,  1.62799501e+00],\n",
       "       [ 1.67634830e+01,  2.54882832e+01],\n",
       "       [-6.83780527e+00, -8.58342743e+00],\n",
       "       [ 1.07537842e+01, -3.48995948e+00],\n",
       "       [-2.00519142e+01, -1.74257870e+01],\n",
       "       [ 1.81336803e+01,  3.07443104e+01],\n",
       "       [ 1.57826114e+00, -7.66283607e+00],\n",
       "       [ 1.54894743e+01,  2.50773544e+01],\n",
       "       [ 1.59836588e+01,  1.91509571e+01],\n",
       "       [ 1.05884924e+01, -4.06895447e+00],\n",
       "       [ 1.79290333e+01,  2.74541531e+01],\n",
       "       [-1.06903524e+01, -8.96798801e+00],\n",
       "       [-1.90459359e+00, -8.13108444e+00],\n",
       "       [-2.10674839e+01, -1.84708748e+01],\n",
       "       [-1.15965767e+01, -1.87813263e+01],\n",
       "       [-9.03206158e+00, -3.92649794e+00],\n",
       "       [-1.64978733e+01, -1.26309509e+01],\n",
       "       [-9.69940376e+00, -1.41928419e-02],\n",
       "       [ 1.88410492e+01,  3.05604973e+01],\n",
       "       [ 4.99333620e+00,  2.31832433e+00],\n",
       "       [-1.48908052e+01, -8.91096020e+00],\n",
       "       [-5.35885859e+00, -6.42465925e+00],\n",
       "       [ 3.53493690e+00, -8.46172237e+00],\n",
       "       [ 3.17194247e+00,  1.86342216e+00],\n",
       "       [ 4.87529898e+00,  8.36185837e+00],\n",
       "       [ 1.72276726e+01,  2.02173595e+01],\n",
       "       [-2.16200256e+01, -1.15879335e+01],\n",
       "       [ 1.11174905e+00,  9.47756195e+00],\n",
       "       [-8.44155884e+00, -3.06694102e+00],\n",
       "       [-1.60748653e+01, -1.15036802e+01],\n",
       "       [-1.63903389e+01, -1.37120848e+01],\n",
       "       [ 1.80065746e+01,  2.16841278e+01],\n",
       "       [ 1.62288570e+01,  2.21760311e+01],\n",
       "       [-6.82519388e+00, -1.69416535e+00],\n",
       "       [-1.25370388e+01, -9.19935799e+00],\n",
       "       [ 1.78448963e+01,  2.34338074e+01],\n",
       "       [ 1.77981339e+01,  1.87612247e+01],\n",
       "       [-8.14317608e+00, -6.98883295e+00],\n",
       "       [-1.03366175e+01, -1.81706104e+01],\n",
       "       [-2.22143631e+01, -1.76809750e+01],\n",
       "       [ 1.81470528e+01,  3.17326889e+01],\n",
       "       [-1.11939945e+01, -3.34668946e+00],\n",
       "       [-1.99818134e+01, -2.04250298e+01],\n",
       "       [ 1.58709278e+01,  1.71589451e+01],\n",
       "       [ 3.16188598e+00, -7.11165333e+00],\n",
       "       [-8.33038712e+00,  1.33366358e+00],\n",
       "       [ 1.97366657e+01,  3.26280136e+01],\n",
       "       [-9.40173435e+00, -7.50260782e+00],\n",
       "       [ 2.04655628e+01,  3.09688263e+01],\n",
       "       [ 2.86279750e+00,  1.36292374e+00],\n",
       "       [-1.03600378e+01, -2.09773004e-01],\n",
       "       [-1.83426723e+01, -2.02432251e+01],\n",
       "       [-8.81340218e+00, -7.36810970e+00],\n",
       "       [-1.95991840e+01, -7.81679916e+00],\n",
       "       [-4.26969004e+00, -1.05180941e+01],\n",
       "       [ 2.31603789e+00, -1.15035992e+01],\n",
       "       [-6.43486118e+00,  4.06498957e+00],\n",
       "       [-8.13747597e+00, -8.85792923e+00],\n",
       "       [-2.18287735e+01, -1.96454868e+01],\n",
       "       [ 1.69443970e+01,  1.84722137e+01],\n",
       "       [ 2.65847063e+00, -1.05212460e+01],\n",
       "       [ 1.82586555e+01,  1.91928520e+01],\n",
       "       [-4.99386692e+00, -4.92688084e+00],\n",
       "       [-4.94278336e+00,  3.72768545e+00],\n",
       "       [-1.99931679e+01, -1.60601978e+01],\n",
       "       [ 2.80242014e+00,  1.12903814e+01],\n",
       "       [ 1.88243790e+01,  3.14920063e+01],\n",
       "       [ 1.03837948e+01, -2.92074728e+00],\n",
       "       [-1.98503799e+01, -9.24570560e+00],\n",
       "       [ 9.80042171e+00, -3.94344258e+00],\n",
       "       [ 9.75393963e+00, -4.27312183e+00],\n",
       "       [ 2.00886497e+01,  1.58707876e+01],\n",
       "       [-3.43370700e+00, -1.23960514e+01],\n",
       "       [-9.19363403e+00, -9.43275356e+00],\n",
       "       [ 2.11422405e+01,  1.85592575e+01],\n",
       "       [-2.14348984e+01, -1.01692772e+01],\n",
       "       [-2.03603840e+01, -1.88362980e+01],\n",
       "       [ 3.27783799e+00, -8.91293812e+00],\n",
       "       [ 5.10266018e+00,  4.46580029e+00],\n",
       "       [-1.86406498e+01, -2.00340443e+01],\n",
       "       [ 1.81243324e+01,  2.22748814e+01],\n",
       "       [ 2.18244152e+01,  1.76309586e+01],\n",
       "       [ 1.99919586e+01,  2.09608212e+01],\n",
       "       [ 1.56918955e+00,  9.28941631e+00],\n",
       "       [-1.54746304e+01, -1.57209044e+01],\n",
       "       [ 1.64117374e+01,  2.18722992e+01],\n",
       "       [ 3.92029428e+00, -5.95767879e+00],\n",
       "       [-6.82941580e+00, -9.03176594e+00],\n",
       "       [ 7.34443903e-01,  1.00827408e+01],\n",
       "       [-3.63240004e+00, -8.09968376e+00],\n",
       "       [ 9.40331399e-01,  9.02505302e+00],\n",
       "       [-1.32995863e+01, -6.65708399e+00],\n",
       "       [ 1.84662552e+01,  1.77304363e+01],\n",
       "       [-1.96072311e+01, -1.21474695e+01],\n",
       "       [-1.56024528e+00, -7.61474895e+00],\n",
       "       [ 1.98440189e+01,  1.77602463e+01],\n",
       "       [-1.68951054e+01, -1.58048048e+01],\n",
       "       [-2.16420574e+01, -1.14480238e+01],\n",
       "       [ 5.03213048e-01,  9.15812206e+00],\n",
       "       [-2.09329815e+01, -1.82944489e+01],\n",
       "       [ 1.37679234e-01,  1.96478760e+00],\n",
       "       [-1.22276402e+01, -8.96325111e+00],\n",
       "       [-2.39611650e+00, -2.12458372e+00],\n",
       "       [ 1.78430767e+01,  2.11771183e+01],\n",
       "       [-1.80079041e+01, -1.74228268e+01],\n",
       "       [-2.88904834e+00, -5.19845963e+00],\n",
       "       [-4.27212048e+00,  4.09348631e+00],\n",
       "       [ 1.40105522e+00, -8.48303890e+00],\n",
       "       [-1.78489780e+01, -1.24777718e+01],\n",
       "       [ 1.58907194e+01,  2.15689201e+01],\n",
       "       [-7.36775541e+00, -3.90418386e+00],\n",
       "       [ 1.63375664e+01,  1.85845451e+01],\n",
       "       [ 1.23004513e+01, -2.90335393e+00],\n",
       "       [-4.85780811e+00, -1.03021030e+01],\n",
       "       [ 1.85931644e+01,  3.22827721e+01],\n",
       "       [-1.44132137e+01, -1.29639359e+01],\n",
       "       [-9.93299580e+00, -7.91793823e+00],\n",
       "       [ 2.69824314e+00, -1.13012848e+01],\n",
       "       [ 2.01414604e+01,  3.20735817e+01],\n",
       "       [-5.03014660e+00,  3.90501738e+00],\n",
       "       [ 1.98823280e+01,  2.87844162e+01],\n",
       "       [ 1.45054169e+01,  2.09554825e+01],\n",
       "       [-6.62600374e+00, -3.18265414e+00],\n",
       "       [-7.49192190e+00, -8.87829876e+00],\n",
       "       [ 1.96862984e+01,  1.97154217e+01],\n",
       "       [-1.81229630e+01, -1.33418674e+01],\n",
       "       [-1.78947735e+01, -9.02698708e+00],\n",
       "       [-4.72036076e+00,  4.28374958e+00],\n",
       "       [-1.61114750e+01, -1.19246998e+01],\n",
       "       [-6.06746626e+00, -8.67963791e+00],\n",
       "       [-2.98748374e+00, -6.24516773e+00],\n",
       "       [-7.11083174e+00, -1.11838603e+00],\n",
       "       [ 1.63473682e+01,  2.45648651e+01],\n",
       "       [-6.25324070e-01,  1.01630859e+01],\n",
       "       [-6.15915284e-02,  2.01835084e+00],\n",
       "       [-1.59453440e+01, -6.76080561e+00],\n",
       "       [-1.07523155e+00, -6.57396698e+00],\n",
       "       [ 1.11468029e+01, -4.56200743e+00],\n",
       "       [-1.22875223e+01, -1.40905428e+01],\n",
       "       [ 2.02049255e+01,  1.76967468e+01],\n",
       "       [-3.93678021e+00, -6.43289375e+00],\n",
       "       [-1.85811729e+01, -1.38564987e+01],\n",
       "       [-2.33703537e+01, -1.51661758e+01],\n",
       "       [ 1.12940168e+01,  1.48861799e+01],\n",
       "       [-1.65278397e+01, -1.13785648e+01],\n",
       "       [ 1.78650284e+01,  1.77947502e+01],\n",
       "       [-5.39307594e+00, -3.97001433e+00],\n",
       "       [ 1.84889355e+01,  3.14554272e+01],\n",
       "       [-1.66402340e+01, -1.73252106e+01],\n",
       "       [ 2.81803823e+00, -5.82214308e+00],\n",
       "       [ 1.83169918e+01,  1.68558712e+01],\n",
       "       [-1.61869678e+01, -1.70095005e+01],\n",
       "       [ 2.22958469e+00,  1.77841306e+00],\n",
       "       [-1.93600445e+01, -1.08681059e+01],\n",
       "       [-3.04657650e+00, -1.20306034e+01],\n",
       "       [-1.87908230e+01, -1.68015175e+01],\n",
       "       [-5.06707001e+00, -4.89700413e+00],\n",
       "       [-2.03913612e+01, -1.24200726e+01],\n",
       "       [ 2.67728710e+00, -9.04879189e+00],\n",
       "       [-3.02167225e+00, -3.80647731e+00],\n",
       "       [ 1.84658890e+01,  1.81260605e+01],\n",
       "       [ 2.67684674e+00,  1.02371054e+01],\n",
       "       [-8.69320273e-01,  9.92573071e+00],\n",
       "       [ 1.70732117e+01,  1.97417297e+01],\n",
       "       [-1.79546776e+01, -1.70709496e+01],\n",
       "       [ 1.61618881e+01,  2.39484673e+01],\n",
       "       [-1.29739132e+01, -7.20262432e+00],\n",
       "       [ 1.81226101e+01,  2.61416721e+01],\n",
       "       [-1.86989002e+01, -1.58552637e+01],\n",
       "       [-6.51960182e+00,  4.54994822e+00],\n",
       "       [-3.43292665e+00, -2.77524209e+00],\n",
       "       [ 6.27663565e+00,  3.19522738e+00],\n",
       "       [ 9.75954628e+00, -4.59548235e+00],\n",
       "       [ 5.65113449e+00,  2.92174768e+00],\n",
       "       [ 1.76872959e+01,  1.71137409e+01],\n",
       "       [-8.98780537e+00, -7.10722029e-01],\n",
       "       [ 1.09046450e+01,  1.44380484e+01],\n",
       "       [-7.56738663e+00, -5.38976240e+00],\n",
       "       [ 1.56520720e+01,  1.84266701e+01],\n",
       "       [-1.59874659e+01, -6.61930513e+00],\n",
       "       [-1.00721970e+01, -5.95309687e+00],\n",
       "       [ 2.01130390e+01,  3.15792294e+01],\n",
       "       [ 7.82067919e+00, -2.87788773e+00],\n",
       "       [ 2.83376479e+00, -5.79093504e+00],\n",
       "       [ 1.61052299e+00, -9.94386387e+00],\n",
       "       [-1.67535973e+01, -1.69182262e+01],\n",
       "       [-1.11142979e+01, -8.02022648e+00],\n",
       "       [ 1.29261923e+00, -8.75959015e+00],\n",
       "       [-1.04583530e+01, -1.01171818e+01],\n",
       "       [-2.19307518e+01, -1.83353653e+01],\n",
       "       [ 1.81374664e+01,  3.22679291e+01],\n",
       "       [ 3.38517070e+00, -1.19215326e+01]], dtype=float32)"
      ]
     },
     "execution_count": 61,
     "metadata": {},
     "output_type": "execute_result"
    }
   ],
   "source": [
    "X_train_tsne"
   ]
  },
  {
   "cell_type": "code",
   "execution_count": 62,
   "id": "c2068cc0",
   "metadata": {},
   "outputs": [
    {
     "data": {
      "text/plain": [
       "(354, 2)"
      ]
     },
     "execution_count": 62,
     "metadata": {},
     "output_type": "execute_result"
    }
   ],
   "source": [
    "X_train_tsne.shape"
   ]
  },
  {
   "cell_type": "code",
   "execution_count": 63,
   "id": "e4e0cf80",
   "metadata": {},
   "outputs": [
    {
     "data": {
      "text/plain": [
       "<matplotlib.collections.PathCollection at 0x20795145850>"
      ]
     },
     "execution_count": 63,
     "metadata": {},
     "output_type": "execute_result"
    },
    {
     "data": {
      "image/png": "[encoded data removed]",
      "text/plain": [
       "<Figure size 432x288 with 1 Axes>"
      ]
     },
     "metadata": {
      "needs_background": "light"
     },
     "output_type": "display_data"
    }
   ],
   "source": [
    "plt.scatter(X_train_tsne[:,0], X_train_tsne [:,1])"
   ]
  },
  {
   "cell_type": "markdown",
   "id": "9117e4cc",
   "metadata": {},
   "source": [
    "Задание 2\n",
    "\n",
    "С помощью KMeans разбейте данные из тренировочного датасета на 3 кластера,используйте все признаки из датафрейма X_train.\n",
    "\n",
    "Параметр max_iter должен быть равен 100, random_state сделайте равным 42.\n",
    "\n",
    "Постройте еще раз диаграмму рассеивания на данных, полученных с помощью TSNE, и раскрасьте точки из разных кластеров \n",
    "разными цветами.\n",
    "\n",
    "Вычислите среднее значение price и CRIM в разных кластерах.\n",
    " \n"
   ]
  },
  {
   "cell_type": "code",
   "execution_count": 64,
   "id": "0a61f5c8",
   "metadata": {},
   "outputs": [],
   "source": [
    "from sklearn.cluster import KMeans"
   ]
  },
  {
   "cell_type": "code",
   "execution_count": 65,
   "id": "b3130760",
   "metadata": {},
   "outputs": [],
   "source": [
    "kmeans = KMeans(n_clusters = 3)"
   ]
  },
  {
   "cell_type": "code",
   "execution_count": 66,
   "id": "037de6c3",
   "metadata": {},
   "outputs": [],
   "source": [
    "labels_train = kmeans.fit_predict(X_train_scaled)"
   ]
  },
  {
   "cell_type": "code",
   "execution_count": 67,
   "id": "752172d6",
   "metadata": {},
   "outputs": [
    {
     "data": {
      "text/plain": [
       "0    166\n",
       "1    114\n",
       "2     74\n",
       "dtype: int64"
      ]
     },
     "execution_count": 67,
     "metadata": {},
     "output_type": "execute_result"
    }
   ],
   "source": [
    "pd.value_counts(labels_train)"
   ]
  },
  {
   "cell_type": "markdown",
   "id": "e1d18f7d",
   "metadata": {},
   "source": []
  },
  {
   "cell_type": "code",
   "execution_count": null,
   "id": "516547e6",
   "metadata": {},
   "outputs": [],
   "source": [
    "не понятно "
   ]
  }
 ],
 "metadata": {
  "kernelspec": {
   "display_name": "Python 3 (ipykernel)",
   "language": "python",
   "name": "python3"
  },
  "language_info": {
   "codemirror_mode": {
    "name": "ipython",
    "version": 3
   },
   "file_extension": ".py",
   "mimetype": "text/x-python",
   "name": "python",
   "nbconvert_exporter": "python",
   "pygments_lexer": "ipython3",
   "version": "3.9.7"
  }
 },
 "nbformat": 4,
 "nbformat_minor": 5
}
